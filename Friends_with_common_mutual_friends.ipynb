{
  "nbformat": 4,
  "nbformat_minor": 0,
  "metadata": {
    "colab": {
      "name": "Common_friends.ipynb",
      "version": "0.3.2",
      "provenance": [],
      "collapsed_sections": [],
      "toc_visible": true
    },
    "kernelspec": {
      "name": "python3",
      "display_name": "Python 3"
    }
  },
  "cells": [
    {
      "cell_type": "code",
      "metadata": {
        "id": "ndZBa5xStwJu",
        "colab_type": "code",
        "outputId": "13faaa55-f140-4e2d-d0ca-d2b3e350bd2d",
        "colab": {
          "base_uri": "https://localhost:8080/",
          "height": 356
        }
      },
      "source": [
        "# Do not edit this cell\n",
        "\n",
        "import os\n",
        "java8_location= '/usr/lib/jvm/java-8-openjdk-amd64'\n",
        "os.environ['JAVA_HOME'] = java8_location\n",
        "\n",
        "!pip install pyspark==2.4.0\n",
        "!pip install graphframes\n",
        "\n",
        "os.environ[\"PYSPARK_SUBMIT_ARGS\"] = (\"--packages graphframes:graphframes:0.6.0-spark2.3-s_2.11 pyspark-shell\")\n",
        "\n",
        "from pyspark.sql import SparkSession\n",
        "from pyspark.sql.types import StructType, StructField, IntegerType\n",
        "spark = SparkSession.builder.appName(\"Spark\").master(\"local[4]\").getOrCreate()"
      ],
      "execution_count": 1,
      "outputs": [
        {
          "output_type": "stream",
          "text": [
            "Collecting pyspark==2.4.0\n",
            "\u001b[?25l  Downloading https://files.pythonhosted.org/packages/88/01/a37e827c2d80c6a754e40e99b9826d978b55254cc6c6672b5b08f2e18a7f/pyspark-2.4.0.tar.gz (213.4MB)\n",
            "\u001b[K     |████████████████████████████████| 213.4MB 105kB/s \n",
            "\u001b[?25hCollecting py4j==0.10.7 (from pyspark==2.4.0)\n",
            "\u001b[?25l  Downloading https://files.pythonhosted.org/packages/e3/53/c737818eb9a7dc32a7cd4f1396e787bd94200c3997c72c1dbe028587bd76/py4j-0.10.7-py2.py3-none-any.whl (197kB)\n",
            "\u001b[K     |████████████████████████████████| 204kB 39.3MB/s \n",
            "\u001b[?25hBuilding wheels for collected packages: pyspark\n",
            "  Building wheel for pyspark (setup.py) ... \u001b[?25l\u001b[?25hdone\n",
            "  Created wheel for pyspark: filename=pyspark-2.4.0-py2.py3-none-any.whl size=213793601 sha256=21bb126540cd012fd71f2590b89137d7882ae101427c2cba7ec62e3f73065a0f\n",
            "  Stored in directory: /root/.cache/pip/wheels/cd/54/c2/abfcc942eddeaa7101228ebd6127a30dbdf903c72db4235b23\n",
            "Successfully built pyspark\n",
            "Installing collected packages: py4j, pyspark\n",
            "Successfully installed py4j-0.10.7 pyspark-2.4.0\n",
            "Collecting graphframes\n",
            "  Downloading https://files.pythonhosted.org/packages/0b/27/c7c7e1ced2fe9a905f865dd91faaec2ac8a8e313f511678c8ec92a41a153/graphframes-0.6-py2.py3-none-any.whl\n",
            "Requirement already satisfied: nose in /usr/local/lib/python3.6/dist-packages (from graphframes) (1.3.7)\n",
            "Requirement already satisfied: numpy in /usr/local/lib/python3.6/dist-packages (from graphframes) (1.16.4)\n",
            "Installing collected packages: graphframes\n",
            "Successfully installed graphframes-0.6\n"
          ],
          "name": "stdout"
        }
      ]
    },
    {
      "cell_type": "code",
      "metadata": {
        "id": "cn6stbKitxrX",
        "colab_type": "code",
        "colab": {}
      },
      "source": [
        "# Begin your code from this cell. Use as many cells as you need.\n",
        "\n",
        "# Custome schema for our Dataframe\n",
        "\n",
        "schema = StructType([\n",
        "    StructField(\"src\", IntegerType(), True),\n",
        "    StructField(\"dst\", IntegerType(), True)])\n",
        "\n",
        "# Read csv as DataFrame\n",
        "edges = spark.read.csv(\"/content/net.txt\",schema=schema)"
      ],
      "execution_count": 0,
      "outputs": []
    },
    {
      "cell_type": "code",
      "metadata": {
        "id": "2XKkQ2motyB6",
        "colab_type": "code",
        "outputId": "d87f1e66-def6-48bf-aefc-872429074a67",
        "colab": {
          "base_uri": "https://localhost:8080/",
          "height": 118
        }
      },
      "source": [
        "print(type(edges))\n",
        "\n",
        "edges.take(5)\n",
        "\n"
      ],
      "execution_count": 3,
      "outputs": [
        {
          "output_type": "stream",
          "text": [
            "<class 'pyspark.sql.dataframe.DataFrame'>\n"
          ],
          "name": "stdout"
        },
        {
          "output_type": "execute_result",
          "data": {
            "text/plain": [
              "[Row(src=1, dst=2),\n",
              " Row(src=2, dst=3),\n",
              " Row(src=2, dst=4),\n",
              " Row(src=4, dst=1),\n",
              " Row(src=3, dst=5)]"
            ]
          },
          "metadata": {
            "tags": []
          },
          "execution_count": 3
        }
      ]
    },
    {
      "cell_type": "code",
      "metadata": {
        "id": "oD9PDK0iSE-c",
        "colab_type": "code",
        "outputId": "ccc6fff8-f270-44ee-a5bd-c560ed3bf818",
        "colab": {
          "base_uri": "https://localhost:8080/",
          "height": 50
        }
      },
      "source": [
        "# Getting verticed from edges by performing union of both the columns\n",
        "\n",
        "verticesfromedges = edges.select('src').union(edges.select('dst')).withColumnRenamed('src','id')\n",
        "print(verticesfromedges.take(5))\n",
        "print(F\"Count of Vertices - { verticesfromedges.count() }\")"
      ],
      "execution_count": 4,
      "outputs": [
        {
          "output_type": "stream",
          "text": [
            "[Row(id=1), Row(id=2), Row(id=2), Row(id=4), Row(id=3)]\n",
            "Count of Vertices - 12\n"
          ],
          "name": "stdout"
        }
      ]
    },
    {
      "cell_type": "code",
      "metadata": {
        "id": "j0BzsXNTTAOk",
        "colab_type": "code",
        "outputId": "ed749a78-3eee-4ea7-b0db-b1ae94a4cbde",
        "colab": {
          "base_uri": "https://localhost:8080/",
          "height": 34
        }
      },
      "source": [
        "# Getting distinct vertices\n",
        "\n",
        "vertices = verticesfromedges.distinct()\n",
        "print(F\"Count of Unique Vertices - { vertices.count() }\")"
      ],
      "execution_count": 5,
      "outputs": [
        {
          "output_type": "stream",
          "text": [
            "Count of Unique Vertices - 5\n"
          ],
          "name": "stdout"
        }
      ]
    },
    {
      "cell_type": "code",
      "metadata": {
        "id": "NQIbSH9cTmOa",
        "colab_type": "code",
        "colab": {}
      },
      "source": [
        "# Creating graph\n",
        "\n",
        "from graphframes import GraphFrame\n",
        "g = GraphFrame(vertices, edges)"
      ],
      "execution_count": 0,
      "outputs": []
    },
    {
      "cell_type": "code",
      "metadata": {
        "id": "65QX1bZ-UGZo",
        "colab_type": "code",
        "outputId": "d25806bd-74bc-4c22-c467-565707e59144",
        "colab": {
          "base_uri": "https://localhost:8080/",
          "height": 185
        }
      },
      "source": [
        "g.vertices.show(5)"
      ],
      "execution_count": 7,
      "outputs": [
        {
          "output_type": "stream",
          "text": [
            "+---+\n",
            "| id|\n",
            "+---+\n",
            "|  1|\n",
            "|  3|\n",
            "|  5|\n",
            "|  4|\n",
            "|  2|\n",
            "+---+\n",
            "\n"
          ],
          "name": "stdout"
        }
      ]
    },
    {
      "cell_type": "code",
      "metadata": {
        "id": "_ToXTFWAUXSF",
        "colab_type": "code",
        "outputId": "edcc814f-6321-45ec-92c7-c311d093b7e4",
        "colab": {
          "base_uri": "https://localhost:8080/",
          "height": 202
        }
      },
      "source": [
        "g.edges.show(5)"
      ],
      "execution_count": 8,
      "outputs": [
        {
          "output_type": "stream",
          "text": [
            "+---+---+\n",
            "|src|dst|\n",
            "+---+---+\n",
            "|  1|  2|\n",
            "|  2|  3|\n",
            "|  2|  4|\n",
            "|  4|  1|\n",
            "|  3|  5|\n",
            "+---+---+\n",
            "only showing top 5 rows\n",
            "\n"
          ],
          "name": "stdout"
        }
      ]
    },
    {
      "cell_type": "code",
      "metadata": {
        "id": "I_77CxuFUcPE",
        "colab_type": "code",
        "colab": {}
      },
      "source": [
        "# Motif to find mutual freind\n",
        "\n",
        "suggested_friend_by_mutual_friend_reletionship = g.find(\"(v1)-[e1]->(v2);(v2)-[e2]->(v3);!(v3)-[]->(v1);!(v1)-[]->(v3)\")"
      ],
      "execution_count": 0,
      "outputs": []
    },
    {
      "cell_type": "code",
      "metadata": {
        "id": "b1IFbdAwVY8v",
        "colab_type": "code",
        "outputId": "76155c3b-53d9-4e4a-f8b7-a787df96944f",
        "colab": {
          "base_uri": "https://localhost:8080/",
          "height": 134
        }
      },
      "source": [
        "suggested_friend_by_mutual_friend_reletionship.show(5)"
      ],
      "execution_count": 10,
      "outputs": [
        {
          "output_type": "stream",
          "text": [
            "+---+------+---+------+---+\n",
            "| v1|    e1| v2|    e2| v3|\n",
            "+---+------+---+------+---+\n",
            "|[1]|[1, 2]|[2]|[2, 5]|[5]|\n",
            "|[1]|[1, 2]|[2]|[2, 3]|[3]|\n",
            "+---+------+---+------+---+\n",
            "\n"
          ],
          "name": "stdout"
        }
      ]
    },
    {
      "cell_type": "code",
      "metadata": {
        "id": "khv32tY0VdvJ",
        "colab_type": "code",
        "outputId": "d98b55ed-d979-4397-84d4-15cf3758ffb8",
        "colab": {
          "base_uri": "https://localhost:8080/",
          "height": 134
        }
      },
      "source": [
        "suggested_friend_by_mutual_friend_reletionship.select(\"v1.id\",\"v3.id\").withColumnRenamed(\"id\",\"First_id\").show(5)"
      ],
      "execution_count": 11,
      "outputs": [
        {
          "output_type": "stream",
          "text": [
            "+--------+--------+\n",
            "|First_id|First_id|\n",
            "+--------+--------+\n",
            "|       1|       5|\n",
            "|       1|       3|\n",
            "+--------+--------+\n",
            "\n"
          ],
          "name": "stdout"
        }
      ]
    }
  ]
}