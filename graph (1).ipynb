{
  "nbformat": 4,
  "nbformat_minor": 0,
  "metadata": {
    "colab": {
      "name": "graph.ipynb",
      "version": "0.3.2",
      "provenance": [],
      "collapsed_sections": [],
      "toc_visible": true
    },
    "kernelspec": {
      "name": "python3",
      "display_name": "Python 3"
    }
  },
  "cells": [
    {
      "cell_type": "markdown",
      "metadata": {
        "id": "b9HQYMoFiOLw",
        "colab_type": "text"
      },
      "source": [
        "# Graphs in Spark\n",
        "\n",
        "## Setup"
      ]
    },
    {
      "cell_type": "code",
      "metadata": {
        "id": "6frA1I34R70W",
        "colab_type": "code",
        "colab": {}
      },
      "source": [
        "import os\n",
        "java8_location= '/usr/lib/jvm/java-8-openjdk-amd64'\n",
        "os.environ['JAVA_HOME'] = java8_location"
      ],
      "execution_count": 0,
      "outputs": []
    },
    {
      "cell_type": "code",
      "metadata": {
        "id": "PN8bt4Ww9nBZ",
        "colab_type": "code",
        "outputId": "eb17890f-8587-4eac-f7b8-a929d3259e31",
        "colab": {
          "base_uri": "https://localhost:8080/",
          "height": 356
        }
      },
      "source": [
        "!pip install pyspark==2.3.0\n",
        "!pip install graphframes"
      ],
      "execution_count": 2,
      "outputs": [
        {
          "output_type": "stream",
          "text": [
            "Collecting pyspark==2.3.0\n",
            "\u001b[?25l  Downloading https://files.pythonhosted.org/packages/58/49/45370cc153a6adcf2c304a3c06e801ed3c9650d0f852e7fde04bd8ffb534/pyspark-2.3.0.tar.gz (211.9MB)\n",
            "\u001b[K     |████████████████████████████████| 211.9MB 64.5MB/s \n",
            "\u001b[?25hCollecting py4j==0.10.6 (from pyspark==2.3.0)\n",
            "\u001b[?25l  Downloading https://files.pythonhosted.org/packages/4a/08/162710786239aa72bd72bb46c64f2b02f54250412ba928cb373b30699139/py4j-0.10.6-py2.py3-none-any.whl (189kB)\n",
            "\u001b[K     |████████████████████████████████| 194kB 41.8MB/s \n",
            "\u001b[?25hBuilding wheels for collected packages: pyspark\n",
            "  Building wheel for pyspark (setup.py) ... \u001b[?25l\u001b[?25hdone\n",
            "  Created wheel for pyspark: filename=pyspark-2.3.0-py2.py3-none-any.whl size=212271917 sha256=9f64e8e05a95268aa89f8d8607ad6eaff9328cba19ce9b2eb260ead8df0634b8\n",
            "  Stored in directory: /root/.cache/pip/wheels/d9/db/ff/e6f3a8a564163ea64bc2072357e77b3404d10f91be48352796\n",
            "Successfully built pyspark\n",
            "Installing collected packages: py4j, pyspark\n",
            "Successfully installed py4j-0.10.6 pyspark-2.3.0\n",
            "Collecting graphframes\n",
            "  Downloading https://files.pythonhosted.org/packages/0b/27/c7c7e1ced2fe9a905f865dd91faaec2ac8a8e313f511678c8ec92a41a153/graphframes-0.6-py2.py3-none-any.whl\n",
            "Requirement already satisfied: nose in /usr/local/lib/python3.6/dist-packages (from graphframes) (1.3.7)\n",
            "Requirement already satisfied: numpy in /usr/local/lib/python3.6/dist-packages (from graphframes) (1.16.4)\n",
            "Installing collected packages: graphframes\n",
            "Successfully installed graphframes-0.6\n"
          ],
          "name": "stdout"
        }
      ]
    },
    {
      "cell_type": "code",
      "metadata": {
        "id": "VhdseyYnY2Id",
        "colab_type": "code",
        "colab": {}
      },
      "source": [
        "os.environ[\"PYSPARK_SUBMIT_ARGS\"] = (\"--packages graphframes:graphframes:0.6.0-spark2.3-s_2.11 pyspark-shell\")"
      ],
      "execution_count": 0,
      "outputs": []
    },
    {
      "cell_type": "code",
      "metadata": {
        "id": "S3dRDVcd-Ct6",
        "colab_type": "code",
        "colab": {}
      },
      "source": [
        "from pyspark import SparkConf, SparkContext\n",
        "conf = SparkConf().setMaster(\"local\").setAppName(\"My App\")\n",
        "sc = SparkContext(conf = conf)"
      ],
      "execution_count": 0,
      "outputs": []
    },
    {
      "cell_type": "markdown",
      "metadata": {
        "id": "jM3Vczbj1Fp3",
        "colab_type": "text"
      },
      "source": [
        "### Creating RDD from file \n",
        "- A recap for Google Colab "
      ]
    },
    {
      "cell_type": "code",
      "metadata": {
        "id": "E_oTX1bicZtn",
        "colab_type": "code",
        "outputId": "3542a637-55df-4a35-eefe-4c34c059cbfb",
        "colab": {
          "base_uri": "https://localhost:8080/",
          "height": 69
        }
      },
      "source": [
        "rdd_from_file = sc.textFile('/content/alice.txt', 4)\n",
        "rdd_from_file.take(3)"
      ],
      "execution_count": 0,
      "outputs": [
        {
          "output_type": "execute_result",
          "data": {
            "text/plain": [
              "['CHAPTER I. Down the Rabbit-Hole',\n",
              " '',\n",
              " 'Alice was beginning to get very tired of sitting by her sister on the']"
            ]
          },
          "metadata": {
            "tags": []
          },
          "execution_count": 5
        }
      ]
    },
    {
      "cell_type": "markdown",
      "metadata": {
        "id": "yXAiWtBbijtz",
        "colab_type": "text"
      },
      "source": [
        "## Triangle Counting (A Naive implementation)\n",
        "<a href='https://photos.google.com/share/AF1QipMejtpuky8_1NPYB9dtsCAupkdjc2XemFIPCDBVplUkNLe3goIyK14PHPlmyl2nSw?key=Q3JQTUwxdnNqVDNSalBZX0xwcFczeGdOSWJwVS1R&source=ctrlq.org'><img src='https://lh3.googleusercontent.com/J5uyrKLu98hMGu-RFY3rFh2fjG9NqedC-5uJQtdhO1SiItr4x67qkd0Eu3EB4H8_GKSs6g26xpPARWwIJM1KJrT1IV5jmti_Zva5dCUg4D8nGVm1tO685CssYK7OS9YexYN9AKVaFpw=w2400' /></a>"
      ]
    },
    {
      "cell_type": "code",
      "metadata": {
        "id": "Ys3-SgFTjFKy",
        "colab_type": "code",
        "outputId": "1c630a45-31ba-4d38-f7cf-2e25d246a599",
        "colab": {
          "base_uri": "https://localhost:8080/",
          "height": 156
        }
      },
      "source": [
        "edges = sc.parallelize([('alice','bob'),('alice','doris'),('bob','emily'),\n",
        "                        ('chris','alice'),('chris','doris'),('doris','bob'),\n",
        "                        ('doris','emily'),('fiona','doris')])\n",
        "edges.collect()"
      ],
      "execution_count": 0,
      "outputs": [
        {
          "output_type": "execute_result",
          "data": {
            "text/plain": [
              "[('alice', 'bob'),\n",
              " ('alice', 'doris'),\n",
              " ('bob', 'emily'),\n",
              " ('chris', 'alice'),\n",
              " ('chris', 'doris'),\n",
              " ('doris', 'bob'),\n",
              " ('doris', 'emily'),\n",
              " ('fiona', 'doris')]"
            ]
          },
          "metadata": {
            "tags": []
          },
          "execution_count": 5
        }
      ]
    },
    {
      "cell_type": "code",
      "metadata": {
        "id": "Zwh71MDh69EP",
        "colab_type": "code",
        "outputId": "3a87c2a5-bbe4-4f47-b517-98ea81dcc24c",
        "colab": {
          "base_uri": "https://localhost:8080/",
          "height": 295
        }
      },
      "source": [
        "edges2nodes = edges.flatMap(lambda x: x)\n",
        "edges2nodes.collect()"
      ],
      "execution_count": 0,
      "outputs": [
        {
          "output_type": "execute_result",
          "data": {
            "text/plain": [
              "['alice',\n",
              " 'bob',\n",
              " 'alice',\n",
              " 'doris',\n",
              " 'bob',\n",
              " 'emily',\n",
              " 'chris',\n",
              " 'alice',\n",
              " 'chris',\n",
              " 'doris',\n",
              " 'doris',\n",
              " 'bob',\n",
              " 'doris',\n",
              " 'emily',\n",
              " 'fiona',\n",
              " 'doris']"
            ]
          },
          "metadata": {
            "tags": []
          },
          "execution_count": 6
        }
      ]
    },
    {
      "cell_type": "code",
      "metadata": {
        "id": "wKwYbzVH7EJ9",
        "colab_type": "code",
        "outputId": "ba77019d-48fb-445c-f8bb-2172985aecc4",
        "colab": {
          "base_uri": "https://localhost:8080/",
          "height": 34
        }
      },
      "source": [
        "nodes = edges2nodes.distinct()\n",
        "nodes.collect()"
      ],
      "execution_count": 0,
      "outputs": [
        {
          "output_type": "execute_result",
          "data": {
            "text/plain": [
              "['alice', 'bob', 'doris', 'emily', 'chris', 'fiona']"
            ]
          },
          "metadata": {
            "tags": []
          },
          "execution_count": 7
        }
      ]
    },
    {
      "cell_type": "code",
      "metadata": {
        "id": "DmVdvdlv7Smq",
        "colab_type": "code",
        "outputId": "1797e4f4-9bcb-4942-e599-39d7cd9752c5",
        "colab": {
          "base_uri": "https://localhost:8080/",
          "height": 260
        }
      },
      "source": [
        "t1 = edges.join(edges)\n",
        "t1.collect()"
      ],
      "execution_count": 0,
      "outputs": [
        {
          "output_type": "execute_result",
          "data": {
            "text/plain": [
              "[('bob', ('emily', 'emily')),\n",
              " ('doris', ('bob', 'bob')),\n",
              " ('doris', ('bob', 'emily')),\n",
              " ('doris', ('emily', 'bob')),\n",
              " ('doris', ('emily', 'emily')),\n",
              " ('alice', ('bob', 'bob')),\n",
              " ('alice', ('bob', 'doris')),\n",
              " ('alice', ('doris', 'bob')),\n",
              " ('alice', ('doris', 'doris')),\n",
              " ('chris', ('alice', 'alice')),\n",
              " ('chris', ('alice', 'doris')),\n",
              " ('chris', ('doris', 'alice')),\n",
              " ('chris', ('doris', 'doris')),\n",
              " ('fiona', ('doris', 'doris'))]"
            ]
          },
          "metadata": {
            "tags": []
          },
          "execution_count": 8
        }
      ]
    },
    {
      "cell_type": "code",
      "metadata": {
        "id": "_6Qgtfz67yYk",
        "colab_type": "code",
        "outputId": "5da4358b-2d80-4932-974b-0938cbe8af17",
        "colab": {
          "base_uri": "https://localhost:8080/",
          "height": 121
        }
      },
      "source": [
        "t2 = t1.filter(lambda x:x[1][0] !=x[1][1])\n",
        "t2.collect()"
      ],
      "execution_count": 0,
      "outputs": [
        {
          "output_type": "execute_result",
          "data": {
            "text/plain": [
              "[('doris', ('bob', 'emily')),\n",
              " ('doris', ('emily', 'bob')),\n",
              " ('alice', ('bob', 'doris')),\n",
              " ('alice', ('doris', 'bob')),\n",
              " ('chris', ('alice', 'doris')),\n",
              " ('chris', ('doris', 'alice'))]"
            ]
          },
          "metadata": {
            "tags": []
          },
          "execution_count": 9
        }
      ]
    },
    {
      "cell_type": "code",
      "metadata": {
        "id": "EC9QvFEb7XsJ",
        "colab_type": "code",
        "colab": {}
      },
      "source": [
        "def order_nodes(x):\n",
        "  if x[0] < x[1]:\n",
        "    return (x[0],x[1])\n",
        "  else:\n",
        "    return (x[1],x[0])"
      ],
      "execution_count": 0,
      "outputs": []
    },
    {
      "cell_type": "markdown",
      "metadata": {
        "id": "6l4chAGBzXI2",
        "colab_type": "text"
      },
      "source": [
        "## Why do we need `order_nodes`?\n",
        "\n",
        "- `('bob', ('emily', 'doris'))` & `('bob', ('doris', 'emily'))` are the same.\n",
        "- changing them both to `('bob', ('doris', 'emily'))` allows us to eliminate duplicates"
      ]
    },
    {
      "cell_type": "code",
      "metadata": {
        "id": "rzLJTdZ99bCJ",
        "colab_type": "code",
        "outputId": "f2eefa8c-3e17-47eb-896c-22ff13104407",
        "colab": {
          "base_uri": "https://localhost:8080/",
          "height": 121
        }
      },
      "source": [
        "t3 = t2.mapValues(order_nodes)\n",
        "t3.collect()"
      ],
      "execution_count": 0,
      "outputs": [
        {
          "output_type": "execute_result",
          "data": {
            "text/plain": [
              "[('doris', ('bob', 'emily')),\n",
              " ('doris', ('bob', 'emily')),\n",
              " ('alice', ('bob', 'doris')),\n",
              " ('alice', ('bob', 'doris')),\n",
              " ('chris', ('alice', 'doris')),\n",
              " ('chris', ('alice', 'doris'))]"
            ]
          },
          "metadata": {
            "tags": []
          },
          "execution_count": 11
        }
      ]
    },
    {
      "cell_type": "code",
      "metadata": {
        "id": "noUWsM2A9hi6",
        "colab_type": "code",
        "outputId": "43a46a50-887f-4206-a9c4-58ba562ea36d",
        "colab": {
          "base_uri": "https://localhost:8080/",
          "height": 69
        }
      },
      "source": [
        "t4 = t3.distinct()\n",
        "t4.collect()"
      ],
      "execution_count": 0,
      "outputs": [
        {
          "output_type": "execute_result",
          "data": {
            "text/plain": [
              "[('chris', ('alice', 'doris')),\n",
              " ('doris', ('bob', 'emily')),\n",
              " ('alice', ('bob', 'doris'))]"
            ]
          },
          "metadata": {
            "tags": []
          },
          "execution_count": 12
        }
      ]
    },
    {
      "cell_type": "code",
      "metadata": {
        "id": "aT5-EJZL-FRp",
        "colab_type": "code",
        "outputId": "c7188444-4b81-4bf6-8542-86dc502faf22",
        "colab": {
          "base_uri": "https://localhost:8080/",
          "height": 34
        }
      },
      "source": [
        "count_triangles = t4.count()\n",
        "count_triangles # count() is an action"
      ],
      "execution_count": 0,
      "outputs": [
        {
          "output_type": "execute_result",
          "data": {
            "text/plain": [
              "3"
            ]
          },
          "metadata": {
            "tags": []
          },
          "execution_count": 13
        }
      ]
    },
    {
      "cell_type": "markdown",
      "metadata": {
        "id": "Gzxxjc5waHds",
        "colab_type": "text"
      },
      "source": [
        "### A Fast Triangle Counting Algorithm (Heavy-hitter nodes)\n",
        "\n",
        "<a href='https://photos.google.com/share/AF1QipOVDr6R-9AaJnMWdvtMOrYAPQuxrbw3Ibk3CcItK5WBCFGeMNY_GEOwqCHYa1yR1A?key=b1ZQbWdjYzM0YmhKNkF6TEl2Um04YlIyYWxrVDJn&source=ctrlq.org'><img src='https://lh3.googleusercontent.com/vCwj_9zWYYmGcs_24HfqmnO1X38pCkxm-It-fCfRE6AXZvfy4HYWUe6iBVzE6ew8Iov2371YoQ_WfvNwd_tHN3Dp6Zgvqh2RUDaOhmMSSolADK1tJrW-w1Pngt72F-4Vde7FWVrMX98=w2400' /></a>"
      ]
    },
    {
      "cell_type": "code",
      "metadata": {
        "id": "VSiIGUctaKFr",
        "colab_type": "code",
        "outputId": "c12815e0-7802-49ce-c6fc-ff9ec6df4813",
        "colab": {
          "base_uri": "https://localhost:8080/",
          "height": 34
        }
      },
      "source": [
        "t_graph = sc.parallelize([(1,2),(1,4),(1,5),(2,3),(2,4),(2,6),(3,4),(3,5),(3,6)]) \n",
        "                          # undirected graph\n",
        "                          # n nodes, m edges, m>=n, nodes are numbered (integers)\n",
        "t_graph.collect()"
      ],
      "execution_count": 0,
      "outputs": [
        {
          "output_type": "execute_result",
          "data": {
            "text/plain": [
              "[(1, 2), (1, 4), (1, 5), (2, 3), (2, 4), (2, 6), (3, 4), (3, 5), (3, 6)]"
            ]
          },
          "metadata": {
            "tags": []
          },
          "execution_count": 14
        }
      ]
    },
    {
      "cell_type": "code",
      "metadata": {
        "id": "edblqY9KaK0K",
        "colab_type": "code",
        "outputId": "362f490c-30b8-4dea-f1bb-d283e95d3bdc",
        "colab": {
          "base_uri": "https://localhost:8080/",
          "height": 34
        }
      },
      "source": [
        "nodes = t_graph.flatMap(lambda x: x).distinct()\n",
        "nodes.collect()"
      ],
      "execution_count": 0,
      "outputs": [
        {
          "output_type": "execute_result",
          "data": {
            "text/plain": [
              "[1, 2, 4, 5, 3, 6]"
            ]
          },
          "metadata": {
            "tags": []
          },
          "execution_count": 15
        }
      ]
    },
    {
      "cell_type": "code",
      "metadata": {
        "id": "KZJtvfnFaMn-",
        "colab_type": "code",
        "outputId": "63788f17-39f3-49de-a311-e524c77bc2c9",
        "colab": {
          "base_uri": "https://localhost:8080/",
          "height": 34
        }
      },
      "source": [
        "degrees = t_graph.flatMap(lambda x: x).map(lambda x: (x,1)).reduceByKey(lambda x,y: x+y)\n",
        "degrees.collect()"
      ],
      "execution_count": 0,
      "outputs": [
        {
          "output_type": "execute_result",
          "data": {
            "text/plain": [
              "[(1, 3), (2, 4), (4, 3), (5, 2), (3, 4), (6, 2)]"
            ]
          },
          "metadata": {
            "tags": []
          },
          "execution_count": 16
        }
      ]
    },
    {
      "cell_type": "code",
      "metadata": {
        "id": "5I2fCbk9aPhq",
        "colab_type": "code",
        "outputId": "91bfc6b9-a3cf-41bc-8910-f0dfebfb3ee4",
        "colab": {
          "base_uri": "https://localhost:8080/",
          "height": 34
        }
      },
      "source": [
        "nodes_sorted_by_degrees = degrees.sortBy(lambda x: x[1])\n",
        "nodes_sorted_by_degrees.collect()"
      ],
      "execution_count": 0,
      "outputs": [
        {
          "output_type": "execute_result",
          "data": {
            "text/plain": [
              "[(5, 2), (6, 2), (1, 3), (4, 3), (2, 4), (3, 4)]"
            ]
          },
          "metadata": {
            "tags": []
          },
          "execution_count": 17
        }
      ]
    },
    {
      "cell_type": "code",
      "metadata": {
        "id": "T0F6ovA8aSl-",
        "colab_type": "code",
        "outputId": "d2253592-b20a-4f54-feed-1b38f61190ba",
        "colab": {
          "base_uri": "https://localhost:8080/",
          "height": 34
        }
      },
      "source": [
        "import math\n",
        "cutoff = math.sqrt(t_graph.count()) # heavy hitter nodes: nodes with degree >= sqrt(m)\n",
        "cutoff"
      ],
      "execution_count": 0,
      "outputs": [
        {
          "output_type": "execute_result",
          "data": {
            "text/plain": [
              "3.0"
            ]
          },
          "metadata": {
            "tags": []
          },
          "execution_count": 18
        }
      ]
    },
    {
      "cell_type": "code",
      "metadata": {
        "id": "SqDa1iXHaVLQ",
        "colab_type": "code",
        "outputId": "f30c5672-d65d-47f0-ca33-d854dd05bdd7",
        "colab": {
          "base_uri": "https://localhost:8080/",
          "height": 34
        }
      },
      "source": [
        "heavy_hitter_nodes_with_degrees = nodes_sorted_by_degrees.filter(lambda x: x[1]>=cutoff)\n",
        "heavy_hitter_nodes_with_degrees.collect()"
      ],
      "execution_count": 0,
      "outputs": [
        {
          "output_type": "execute_result",
          "data": {
            "text/plain": [
              "[(1, 3), (4, 3), (2, 4), (3, 4)]"
            ]
          },
          "metadata": {
            "tags": []
          },
          "execution_count": 19
        }
      ]
    },
    {
      "cell_type": "markdown",
      "metadata": {
        "id": "wuQKuxAZiJqQ",
        "colab_type": "text"
      },
      "source": [
        "## GraphFrames\n",
        "\n",
        "### Basic Operations"
      ]
    },
    {
      "cell_type": "code",
      "metadata": {
        "colab_type": "code",
        "id": "vPga-x3s-fpK",
        "colab": {}
      },
      "source": [
        "from pyspark.sql import SQLContext\n",
        "sqlContext = SQLContext(sc)"
      ],
      "execution_count": 0,
      "outputs": []
    },
    {
      "cell_type": "markdown",
      "metadata": {
        "id": "hhL0qs8U9uH9",
        "colab_type": "text"
      },
      "source": [
        "<a href='https://photos.google.com/share/AF1QipNQedye6kYIw0b6i3SsOpt7PH0lh0VElgwRNtMkpWZZkm6KGFEtRoZletAvSacFzw?key=bE4tVXg0VUNZZmgtOE5aN0tJN2NBSFpfdXJjOHFR&source=ctrlq.org'><img src='https://lh3.googleusercontent.com/fKwYuJ3--I-9ck7aKm-Pq0FGRShMqsk5aFAelPar5y_7DIfytdxLw4XhARxHPM_N5PknomhV7QDqFvOkXfL1Jzov1kqHsK-cBDO3J93aWqHVrG8TfGg1RtBoByRM0NyIRfWp9kD3V7g=w2400' /></a>"
      ]
    },
    {
      "cell_type": "code",
      "metadata": {
        "id": "tuRhivAIAb4p",
        "colab_type": "code",
        "colab": {}
      },
      "source": [
        "vertices = sqlContext.createDataFrame([(\"a\", \"Alice\", 34), (\"b\", \"Bob\", 36), (\"c\", \"Charlie\", 30),\n",
        "                                       (\"d\", \"David\", 29), (\"e\", \"Esther\", 32), (\"f\", \"Faith\", 36),\n",
        "                                       (\"g\", \"Gabby\", 60)],\n",
        "                                      [\"id\", \"name\", \"age\"])"
      ],
      "execution_count": 0,
      "outputs": []
    },
    {
      "cell_type": "code",
      "metadata": {
        "id": "72D_uDTgeQcV",
        "colab_type": "code",
        "colab": {}
      },
      "source": [
        "edges = sqlContext.createDataFrame([(\"a\", \"b\", \"friend\"), (\"b\", \"c\", \"follow\"), (\"c\", \"b\", \"follow\"),\n",
        "                                    (\"f\", \"c\", \"follow\"), (\"e\", \"f\", \"follow\"), (\"e\", \"d\", \"friend\"),\n",
        "                                    (\"d\", \"a\", \"friend\"), (\"a\", \"e\", \"friend\")],\n",
        "                                   [\"src\", \"dst\", \"relationship\"])"
      ],
      "execution_count": 0,
      "outputs": []
    },
    {
      "cell_type": "code",
      "metadata": {
        "id": "zrWlGaIeUoH6",
        "colab_type": "code",
        "colab": {}
      },
      "source": [
        "from graphframes import GraphFrame\n",
        "g = GraphFrame(vertices, edges)"
      ],
      "execution_count": 0,
      "outputs": []
    },
    {
      "cell_type": "code",
      "metadata": {
        "id": "tjSE5NmTbmsn",
        "colab_type": "code",
        "outputId": "24650e56-5be8-4ffc-9454-64507a5faa07",
        "colab": {
          "base_uri": "https://localhost:8080/",
          "height": 34
        }
      },
      "source": [
        "g"
      ],
      "execution_count": 0,
      "outputs": [
        {
          "output_type": "execute_result",
          "data": {
            "text/plain": [
              "GraphFrame(v:[id: string, name: string ... 1 more field], e:[src: string, dst: string ... 1 more field])"
            ]
          },
          "metadata": {
            "tags": []
          },
          "execution_count": 24
        }
      ]
    },
    {
      "cell_type": "code",
      "metadata": {
        "id": "VKlrX2_Qe9nK",
        "colab_type": "code",
        "outputId": "516e2813-d979-499e-a400-3f4b29533a90",
        "colab": {
          "base_uri": "https://localhost:8080/",
          "height": 225
        }
      },
      "source": [
        "g.vertices.show()"
      ],
      "execution_count": 0,
      "outputs": [
        {
          "output_type": "stream",
          "text": [
            "+---+-------+---+\n",
            "| id|   name|age|\n",
            "+---+-------+---+\n",
            "|  a|  Alice| 34|\n",
            "|  b|    Bob| 36|\n",
            "|  c|Charlie| 30|\n",
            "|  d|  David| 29|\n",
            "|  e| Esther| 32|\n",
            "|  f|  Faith| 36|\n",
            "|  g|  Gabby| 60|\n",
            "+---+-------+---+\n",
            "\n"
          ],
          "name": "stdout"
        }
      ]
    },
    {
      "cell_type": "code",
      "metadata": {
        "id": "37Mzz7lRe_Cy",
        "colab_type": "code",
        "outputId": "1ccec0c0-77ee-4c62-9674-a01a09b1b3b1",
        "colab": {
          "base_uri": "https://localhost:8080/",
          "height": 243
        }
      },
      "source": [
        "g.edges.show()"
      ],
      "execution_count": 0,
      "outputs": [
        {
          "output_type": "stream",
          "text": [
            "+---+---+------------+\n",
            "|src|dst|relationship|\n",
            "+---+---+------------+\n",
            "|  a|  b|      friend|\n",
            "|  b|  c|      follow|\n",
            "|  c|  b|      follow|\n",
            "|  f|  c|      follow|\n",
            "|  e|  f|      follow|\n",
            "|  e|  d|      friend|\n",
            "|  d|  a|      friend|\n",
            "|  a|  e|      friend|\n",
            "+---+---+------------+\n",
            "\n"
          ],
          "name": "stdout"
        }
      ]
    },
    {
      "cell_type": "code",
      "metadata": {
        "id": "J9okNtKsbpmN",
        "colab_type": "code",
        "outputId": "87232c3a-fc7d-447f-ca36-2a653cfa5927",
        "colab": {
          "base_uri": "https://localhost:8080/",
          "height": 168
        }
      },
      "source": [
        "g.inDegrees.show()"
      ],
      "execution_count": 17,
      "outputs": [
        {
          "output_type": "stream",
          "text": [
            "+---+--------+\n",
            "| id|inDegree|\n",
            "+---+--------+\n",
            "|  1|       1|\n",
            "|  3|       1|\n",
            "|  4|       1|\n",
            "|  2|       1|\n",
            "+---+--------+\n",
            "\n"
          ],
          "name": "stdout"
        }
      ]
    },
    {
      "cell_type": "code",
      "metadata": {
        "id": "As0LKOtTecm2",
        "colab_type": "code",
        "outputId": "d9f76685-a7db-442a-ddd2-3a16a66c39b7",
        "colab": {
          "base_uri": "https://localhost:8080/",
          "height": 151
        }
      },
      "source": [
        "g.outDegrees.show()"
      ],
      "execution_count": 18,
      "outputs": [
        {
          "output_type": "stream",
          "text": [
            "+---+---------+\n",
            "| id|outDegree|\n",
            "+---+---------+\n",
            "|  1|        1|\n",
            "|  4|        1|\n",
            "|  2|        2|\n",
            "+---+---------+\n",
            "\n"
          ],
          "name": "stdout"
        }
      ]
    },
    {
      "cell_type": "code",
      "metadata": {
        "id": "QOMWAAZbby5K",
        "colab_type": "code",
        "outputId": "9aa0811e-f919-4eb1-db6f-efc5c78f5408",
        "colab": {
          "base_uri": "https://localhost:8080/",
          "height": 86
        }
      },
      "source": [
        "follows = g.edges.filter(\"relationship = 'follow'\")\n",
        "follows.collect()"
      ],
      "execution_count": 0,
      "outputs": [
        {
          "output_type": "execute_result",
          "data": {
            "text/plain": [
              "[Row(src='b', dst='c', relationship='follow'),\n",
              " Row(src='c', dst='b', relationship='follow'),\n",
              " Row(src='f', dst='c', relationship='follow'),\n",
              " Row(src='e', dst='f', relationship='follow')]"
            ]
          },
          "metadata": {
            "tags": []
          },
          "execution_count": 29
        }
      ]
    },
    {
      "cell_type": "code",
      "metadata": {
        "id": "Ui0BEo4rGMmH",
        "colab_type": "code",
        "outputId": "4afbcfb4-2401-4528-d9d8-2ccc3ff857bf",
        "colab": {
          "base_uri": "https://localhost:8080/",
          "height": 34
        }
      },
      "source": [
        "num_follows = follows.count()\n",
        "num_follows"
      ],
      "execution_count": 0,
      "outputs": [
        {
          "output_type": "execute_result",
          "data": {
            "text/plain": [
              "4"
            ]
          },
          "metadata": {
            "tags": []
          },
          "execution_count": 30
        }
      ]
    },
    {
      "cell_type": "markdown",
      "metadata": {
        "id": "SWjCteUPML6G",
        "colab_type": "text"
      },
      "source": [
        "### Triangle Counting (triangles passing through vertices)"
      ]
    },
    {
      "cell_type": "code",
      "metadata": {
        "id": "aKaleE1ILcUL",
        "colab_type": "code",
        "outputId": "86867d3c-817d-4ba4-9a86-a0c37ba74c0d",
        "colab": {
          "base_uri": "https://localhost:8080/",
          "height": 84
        }
      },
      "source": [
        "triangles_in_g = g.triangleCount()\n",
        "triangles_in_g.collect()"
      ],
      "execution_count": 19,
      "outputs": [
        {
          "output_type": "execute_result",
          "data": {
            "text/plain": [
              "[Row(count=1, id=1),\n",
              " Row(count=0, id=3),\n",
              " Row(count=1, id=4),\n",
              " Row(count=1, id=2)]"
            ]
          },
          "metadata": {
            "tags": []
          },
          "execution_count": 19
        }
      ]
    },
    {
      "cell_type": "markdown",
      "metadata": {
        "id": "9_p-FA4vGfOa",
        "colab_type": "text"
      },
      "source": [
        "### Finding Motifs\n",
        "\n",
        "<a href='https://photos.google.com/share/AF1QipMZdJym8QBDFa7uZQefYozKdR04YVCuvOkMEHWsCifBYRvkOP0_kZN1_fb0EY5cug?key=cUdLa2dFdnNsRVNqR0lCZ0FVTU5DckVMQ3dmOVNR&source=ctrlq.org'><img src='https://lh3.googleusercontent.com/mIqUCR37-QvGiYkipJCOQeAZgeXY4v3aqAD_JZtdJhUL4d-USrHu0AWF0sAmDh_dEW0kgl8ZxiX_VM1Xo9sC1e4VBEvbKwkvW1Z8Ly5IGqpCz8sPgQWKAmmhvBYgKK5BmTzDBymhXCc=w2400' /></a>\n",
        "\n",
        "(Image Source: Wikipedia)"
      ]
    },
    {
      "cell_type": "code",
      "metadata": {
        "id": "AKS2SRjGHPqy",
        "colab_type": "code",
        "outputId": "4996ed77-5456-48c9-e26e-4e151b5abf8f",
        "colab": {
          "base_uri": "https://localhost:8080/",
          "height": 139
        }
      },
      "source": [
        "motifs = g.find(\"(v1)-[e1]->(v2); (v2)-[e2]->(v1)\")\n",
        "motifs.show()"
      ],
      "execution_count": 0,
      "outputs": [
        {
          "output_type": "stream",
          "text": [
            "+----------------+--------------+----------------+--------------+\n",
            "|              v1|            e1|              v2|            e2|\n",
            "+----------------+--------------+----------------+--------------+\n",
            "|[c, Charlie, 30]|[c, b, follow]|    [b, Bob, 36]|[b, c, follow]|\n",
            "|    [b, Bob, 36]|[b, c, follow]|[c, Charlie, 30]|[c, b, follow]|\n",
            "+----------------+--------------+----------------+--------------+\n",
            "\n"
          ],
          "name": "stdout"
        }
      ]
    },
    {
      "cell_type": "code",
      "metadata": {
        "id": "wzalNI-zJEaJ",
        "colab_type": "code",
        "outputId": "979b5514-1a3e-42a5-a499-1a8aef834f03",
        "colab": {
          "base_uri": "https://localhost:8080/",
          "height": 208
        }
      },
      "source": [
        "one_sided = g.find(\"(v1)-[e1]->(v2); !(v2)-[]->(v1)\")\n",
        "one_sided.show()"
      ],
      "execution_count": 0,
      "outputs": [
        {
          "output_type": "stream",
          "text": [
            "+---------------+--------------+----------------+\n",
            "|             v1|            e1|              v2|\n",
            "+---------------+--------------+----------------+\n",
            "| [a, Alice, 34]|[a, e, friend]| [e, Esther, 32]|\n",
            "| [a, Alice, 34]|[a, b, friend]|    [b, Bob, 36]|\n",
            "| [f, Faith, 36]|[f, c, follow]|[c, Charlie, 30]|\n",
            "|[e, Esther, 32]|[e, d, friend]|  [d, David, 29]|\n",
            "|[e, Esther, 32]|[e, f, follow]|  [f, Faith, 36]|\n",
            "| [d, David, 29]|[d, a, friend]|  [a, Alice, 34]|\n",
            "+---------------+--------------+----------------+\n",
            "\n"
          ],
          "name": "stdout"
        }
      ]
    },
    {
      "cell_type": "code",
      "metadata": {
        "id": "BnRwYYTOHYdx",
        "colab_type": "code",
        "outputId": "ff44a510-829a-4c3c-acda-5c78172d9305",
        "colab": {
          "base_uri": "https://localhost:8080/",
          "height": 156
        }
      },
      "source": [
        "directed_triangles = g.find(\"(v1)-[e1]->(v2); (v2)-[e2]->(v3); (v3)-[e3]->(v1)\")\n",
        "directed_triangles.show()"
      ],
      "execution_count": 0,
      "outputs": [
        {
          "output_type": "stream",
          "text": [
            "+---------------+--------------+---------------+--------------+---------------+--------------+\n",
            "|             v1|            e1|             v2|            e2|             v3|            e3|\n",
            "+---------------+--------------+---------------+--------------+---------------+--------------+\n",
            "| [d, David, 29]|[d, a, friend]| [a, Alice, 34]|[a, e, friend]|[e, Esther, 32]|[e, d, friend]|\n",
            "| [a, Alice, 34]|[a, e, friend]|[e, Esther, 32]|[e, d, friend]| [d, David, 29]|[d, a, friend]|\n",
            "|[e, Esther, 32]|[e, d, friend]| [d, David, 29]|[d, a, friend]| [a, Alice, 34]|[a, e, friend]|\n",
            "+---------------+--------------+---------------+--------------+---------------+--------------+\n",
            "\n"
          ],
          "name": "stdout"
        }
      ]
    },
    {
      "cell_type": "markdown",
      "metadata": {
        "id": "1J9vdVAFGs1N",
        "colab_type": "text"
      },
      "source": [
        "### Breadth First Search (BFS)"
      ]
    },
    {
      "cell_type": "code",
      "metadata": {
        "id": "pF3pfTDMOLwT",
        "colab_type": "code",
        "outputId": "fab3aecd-a574-4556-896d-f0d9ddaa5dea",
        "colab": {
          "base_uri": "https://localhost:8080/",
          "height": 121
        }
      },
      "source": [
        "path_age = g.bfs(\"name = 'Esther'\", \"age < 32\") # find path between vertex \n",
        "                                                # with name \"Esther\" to a vertex with age < 32\n",
        "path_age.show()"
      ],
      "execution_count": 0,
      "outputs": [
        {
          "output_type": "stream",
          "text": [
            "+---------------+--------------+--------------+\n",
            "|           from|            e0|            to|\n",
            "+---------------+--------------+--------------+\n",
            "|[e, Esther, 32]|[e, d, friend]|[d, David, 29]|\n",
            "+---------------+--------------+--------------+\n",
            "\n"
          ],
          "name": "stdout"
        }
      ]
    },
    {
      "cell_type": "code",
      "metadata": {
        "id": "IkHMBzzFOpFS",
        "colab_type": "code",
        "outputId": "f800cd26-3f5c-4afe-bd87-d35968ce9cb8",
        "colab": {
          "base_uri": "https://localhost:8080/",
          "height": 121
        }
      },
      "source": [
        "paths_follow = g.bfs(\"name = 'Esther'\", \"age < 32\", edgeFilter=\"relationship != 'friend'\")\n",
        "paths_follow.show()"
      ],
      "execution_count": 0,
      "outputs": [
        {
          "output_type": "stream",
          "text": [
            "+---------------+--------------+--------------+--------------+----------------+\n",
            "|           from|            e0|            v1|            e1|              to|\n",
            "+---------------+--------------+--------------+--------------+----------------+\n",
            "|[e, Esther, 32]|[e, f, follow]|[f, Faith, 36]|[f, c, follow]|[c, Charlie, 30]|\n",
            "+---------------+--------------+--------------+--------------+----------------+\n",
            "\n"
          ],
          "name": "stdout"
        }
      ]
    },
    {
      "cell_type": "markdown",
      "metadata": {
        "id": "3d06O7soNkQ5",
        "colab_type": "text"
      },
      "source": [
        "### Shortest Path"
      ]
    },
    {
      "cell_type": "code",
      "metadata": {
        "id": "Ntk1XNMDRg4I",
        "colab_type": "code",
        "outputId": "2a57689c-26a2-49bb-ab42-2be59335fe38",
        "colab": {
          "base_uri": "https://localhost:8080/",
          "height": 225
        }
      },
      "source": [
        "shortest_paths = g.shortestPaths(landmarks=[\"a\"]) # a is the destination\n",
        "shortest_path_results = shortest_paths.select(\"id\", \"distances\")\n",
        "shortest_path_results.show()"
      ],
      "execution_count": 0,
      "outputs": [
        {
          "output_type": "stream",
          "text": [
            "+---+---------+\n",
            "| id|distances|\n",
            "+---+---------+\n",
            "|  g|       []|\n",
            "|  b|       []|\n",
            "|  e| [a -> 2]|\n",
            "|  a| [a -> 0]|\n",
            "|  f|       []|\n",
            "|  d| [a -> 1]|\n",
            "|  c|       []|\n",
            "+---+---------+\n",
            "\n"
          ],
          "name": "stdout"
        }
      ]
    },
    {
      "cell_type": "markdown",
      "metadata": {
        "id": "-6oAkMnEHEFI",
        "colab_type": "text"
      },
      "source": [
        "### PageRank (static)"
      ]
    },
    {
      "cell_type": "code",
      "metadata": {
        "id": "Z0Xge-2tb2D-",
        "colab_type": "code",
        "outputId": "4e8865e2-b83f-4357-8deb-8827e801f9b5",
        "colab": {
          "base_uri": "https://localhost:8080/",
          "height": 225
        }
      },
      "source": [
        "pageranker = g.pageRank(resetProbability=0.01, maxIter=3) # resetProbability: probability of resetting to a random vertex\n",
        "pageranks = pageranker.vertices.select(\"id\", \"pagerank\")\n",
        "pageranks.show()"
      ],
      "execution_count": 0,
      "outputs": [
        {
          "output_type": "stream",
          "text": [
            "+---+--------------------+\n",
            "| id|            pagerank|\n",
            "+---+--------------------+\n",
            "|  g|0.011647254575707157|\n",
            "|  b|   2.600278993344426|\n",
            "|  e| 0.30565336938435944|\n",
            "|  a| 0.31141876039933447|\n",
            "|  f|  0.3027995008319468|\n",
            "|  d|  0.3027995008319468|\n",
            "|  c|   3.165402620632279|\n",
            "+---+--------------------+\n",
            "\n"
          ],
          "name": "stdout"
        }
      ]
    },
    {
      "cell_type": "code",
      "metadata": {
        "id": "CeL05VvESBZQ",
        "colab_type": "code",
        "outputId": "71deb4d0-7067-4ae7-e3b0-e70a4d8a3251",
        "colab": {
          "base_uri": "https://localhost:8080/",
          "height": 225
        }
      },
      "source": [
        "sorted_pageranks = pageranks.orderBy(\"pagerank\", ascending=False)\n",
        "sorted_pageranks.show()"
      ],
      "execution_count": 0,
      "outputs": [
        {
          "output_type": "stream",
          "text": [
            "+---+--------------------+\n",
            "| id|            pagerank|\n",
            "+---+--------------------+\n",
            "|  c|   3.165402620632279|\n",
            "|  b|   2.600278993344426|\n",
            "|  a| 0.31141876039933447|\n",
            "|  e| 0.30565336938435944|\n",
            "|  f|  0.3027995008319468|\n",
            "|  d|  0.3027995008319468|\n",
            "|  g|0.011647254575707157|\n",
            "+---+--------------------+\n",
            "\n"
          ],
          "name": "stdout"
        }
      ]
    },
    {
      "cell_type": "code",
      "metadata": {
        "id": "2Bl2frsCDA2Z",
        "colab_type": "code",
        "colab": {}
      },
      "source": [
        "from pyspark.sql import SparkSession\n",
        "from pyspark.sql.types import StructType, StructField, IntegerType\n",
        "spark = SparkSession.builder.appName(\"Spark\").master(\"local[4]\").getOrCreate()"
      ],
      "execution_count": 0,
      "outputs": []
    },
    {
      "cell_type": "code",
      "metadata": {
        "id": "pZBi_MtBDRVT",
        "colab_type": "code",
        "colab": {}
      },
      "source": [
        "schema = StructType([\n",
        "    StructField(\"src\", IntegerType(), True),\n",
        "    StructField(\"dst\", IntegerType(), True)])\n",
        "edges = spark.read.csv(\"/content/net.txt\",schema=schema)"
      ],
      "execution_count": 0,
      "outputs": []
    },
    {
      "cell_type": "code",
      "metadata": {
        "id": "oS_3XzYpDYfo",
        "colab_type": "code",
        "colab": {}
      },
      "source": [
        "vertices = edges.select('src').union(edges.select('dst')).withColumnRenamed('src','id').distinct()"
      ],
      "execution_count": 0,
      "outputs": []
    },
    {
      "cell_type": "code",
      "metadata": {
        "id": "6JdvyF9GDhIq",
        "colab_type": "code",
        "colab": {}
      },
      "source": [
        "from graphframes import GraphFrame\n",
        "g = GraphFrame(vertices, edges)"
      ],
      "execution_count": 0,
      "outputs": []
    },
    {
      "cell_type": "code",
      "metadata": {
        "id": "aXy72EDCD5Vb",
        "colab_type": "code",
        "colab": {
          "base_uri": "https://localhost:8080/",
          "height": 34
        },
        "outputId": "a9367d62-78b8-4eda-dfd4-c65ae6c3841f"
      },
      "source": [
        "g"
      ],
      "execution_count": 39,
      "outputs": [
        {
          "output_type": "execute_result",
          "data": {
            "text/plain": [
              "GraphFrame(v:[id: int], e:[src: int, dst: int])"
            ]
          },
          "metadata": {
            "tags": []
          },
          "execution_count": 39
        }
      ]
    },
    {
      "cell_type": "code",
      "metadata": {
        "id": "lbmcrfgBEbRc",
        "colab_type": "code",
        "colab": {
          "base_uri": "https://localhost:8080/",
          "height": 185
        },
        "outputId": "10ff5448-bc1e-4c4b-e896-ce50d9f6387a"
      },
      "source": [
        "g.vertices.show()"
      ],
      "execution_count": 40,
      "outputs": [
        {
          "output_type": "stream",
          "text": [
            "+---+\n",
            "| id|\n",
            "+---+\n",
            "|  1|\n",
            "|  3|\n",
            "|  5|\n",
            "|  4|\n",
            "|  2|\n",
            "+---+\n",
            "\n"
          ],
          "name": "stdout"
        }
      ]
    },
    {
      "cell_type": "code",
      "metadata": {
        "id": "u_PvpHiPFx5V",
        "colab_type": "code",
        "colab": {
          "base_uri": "https://localhost:8080/",
          "height": 202
        },
        "outputId": "77d2d261-b353-4aa4-cbba-c0bff2af7d05"
      },
      "source": [
        "g.edges.show()"
      ],
      "execution_count": 41,
      "outputs": [
        {
          "output_type": "stream",
          "text": [
            "+---+---+\n",
            "|src|dst|\n",
            "+---+---+\n",
            "|  1|  2|\n",
            "|  2|  3|\n",
            "|  2|  4|\n",
            "|  4|  1|\n",
            "|  3|  5|\n",
            "|  2|  5|\n",
            "+---+---+\n",
            "\n"
          ],
          "name": "stdout"
        }
      ]
    },
    {
      "cell_type": "code",
      "metadata": {
        "id": "D-N6MwdfF5GJ",
        "colab_type": "code",
        "colab": {
          "base_uri": "https://localhost:8080/",
          "height": 162
        },
        "outputId": "1b4baaa2-0d96-4629-aa0e-07844486d1f1"
      },
      "source": [
        "g.inDegrees()"
      ],
      "execution_count": 32,
      "outputs": [
        {
          "output_type": "error",
          "ename": "TypeError",
          "evalue": "ignored",
          "traceback": [
            "\u001b[0;31m---------------------------------------------------------------------------\u001b[0m",
            "\u001b[0;31mTypeError\u001b[0m                                 Traceback (most recent call last)",
            "\u001b[0;32m<ipython-input-32-408271d4ba47>\u001b[0m in \u001b[0;36m<module>\u001b[0;34m()\u001b[0m\n\u001b[0;32m----> 1\u001b[0;31m \u001b[0mg\u001b[0m\u001b[0;34m.\u001b[0m\u001b[0minDegrees\u001b[0m\u001b[0;34m(\u001b[0m\u001b[0;34m)\u001b[0m\u001b[0;34m\u001b[0m\u001b[0;34m\u001b[0m\u001b[0m\n\u001b[0m",
            "\u001b[0;31mTypeError\u001b[0m: 'DataFrame' object is not callable"
          ]
        }
      ]
    },
    {
      "cell_type": "code",
      "metadata": {
        "id": "jZCiUs3uGDhT",
        "colab_type": "code",
        "colab": {}
      },
      "source": [
        "mutual = g.find(\"(v1)-[e1]->(v2);(v2)-[e2]->(v3);!(v3)-[]->(v1);!(v1)-[]->(v3)\")"
      ],
      "execution_count": 0,
      "outputs": []
    },
    {
      "cell_type": "code",
      "metadata": {
        "id": "YILfn8KQIiV1",
        "colab_type": "code",
        "colab": {
          "base_uri": "https://localhost:8080/",
          "height": 134
        },
        "outputId": "f5f12a35-555e-4ca4-a3d8-63af4cfd09f9"
      },
      "source": [
        "mutual.show()"
      ],
      "execution_count": 46,
      "outputs": [
        {
          "output_type": "stream",
          "text": [
            "+---+------+---+------+---+\n",
            "| v1|    e1| v2|    e2| v3|\n",
            "+---+------+---+------+---+\n",
            "|[1]|[1, 2]|[2]|[2, 5]|[5]|\n",
            "|[1]|[1, 2]|[2]|[2, 3]|[3]|\n",
            "+---+------+---+------+---+\n",
            "\n"
          ],
          "name": "stdout"
        }
      ]
    },
    {
      "cell_type": "code",
      "metadata": {
        "id": "ic5LiqCGI34G",
        "colab_type": "code",
        "colab": {
          "base_uri": "https://localhost:8080/",
          "height": 134
        },
        "outputId": "02aa9cd7-ec8c-4133-91ab-25669e4fac67"
      },
      "source": [
        "mutual.select(\"v1.id\",\"v3.id\").show()"
      ],
      "execution_count": 48,
      "outputs": [
        {
          "output_type": "stream",
          "text": [
            "+---+---+\n",
            "| id| id|\n",
            "+---+---+\n",
            "|  1|  5|\n",
            "|  1|  3|\n",
            "+---+---+\n",
            "\n"
          ],
          "name": "stdout"
        }
      ]
    },
    {
      "cell_type": "code",
      "metadata": {
        "id": "XdI0Wp7hLciC",
        "colab_type": "code",
        "colab": {}
      },
      "source": [
        ""
      ],
      "execution_count": 0,
      "outputs": []
    }
  ]
}